{
 "cells": [
  {
   "cell_type": "code",
   "execution_count": 4,
   "metadata": {},
   "outputs": [
    {
     "name": "stdout",
     "output_type": "stream",
     "text": [
      "3.6.3 |Anaconda, Inc.| (default, Oct  6 2017, 12:04:38) \n",
      "[GCC 4.2.1 Compatible Clang 4.0.1 (tags/RELEASE_401/final)]\n"
     ]
    }
   ],
   "source": [
    "#-*- encoding: utf8 -*-\n",
    "import numpy as np\n",
    "import operator\n",
    "import sys\n",
    "print(sys.version)\n",
    "LOG = True"
   ]
  },
  {
   "cell_type": "code",
   "execution_count": 7,
   "metadata": {},
   "outputs": [],
   "source": [
    "def log(*k,**kw):\n",
    "    if LOG:\n",
    "        print(*k,**kw)"
   ]
  },
  {
   "cell_type": "code",
   "execution_count": 8,
   "metadata": {
    "collapsed": true
   },
   "outputs": [],
   "source": [
    "def createDataSet():\n",
    "    group = np.array([[1.0,1.1],[1.0,1.0],[0,0],[0,0.1]])\n",
    "    labels = ['A','A','B','B']\n",
    "    return group,labels"
   ]
  },
  {
   "cell_type": "code",
   "execution_count": 13,
   "metadata": {
    "collapsed": true
   },
   "outputs": [],
   "source": [
    "def classify0(inX, dataSet,labels,k):\n",
    "    # calculate distance\n",
    "    size = dataSet.shape[0]\n",
    "    diifMat = np.tile(inX,(size,1))-dataSet\n",
    "    sqdiffMat = diifMat**2\n",
    "    log(sqdiffMat)\n",
    "    sqDisitance = sqdiffMat.sum(axis = 1)\n",
    "    log(sqDisitance)\n",
    "    distance = sqDisitance**0.5\n",
    "    sortedDistance = distance.argsort()\n",
    "    classCount = {}\n",
    "    # select min distance\n",
    "    for i in range(k):\n",
    "        voteILabel = labels[sortedDistance[i]]\n",
    "        classCount[voteILabel] = classCount.get(voteILabel,0)+1\n",
    "    sortedClassCount = sorted(classCount.items(),key=operator.itemgetter(1),reverse=True)\n",
    "    return sortedClassCount[0][0]\n",
    "    "
   ]
  },
  {
   "cell_type": "code",
   "execution_count": 14,
   "metadata": {},
   "outputs": [
    {
     "name": "stdout",
     "output_type": "stream",
     "text": [
      "[[ 1.    1.21]\n",
      " [ 1.    1.  ]\n",
      " [ 0.    0.  ]\n",
      " [ 0.    0.01]]\n",
      "[ 2.21  2.    0.    0.01]\n"
     ]
    },
    {
     "data": {
      "text/plain": [
       "'B'"
      ]
     },
     "execution_count": 14,
     "metadata": {},
     "output_type": "execute_result"
    }
   ],
   "source": [
    "group, labels = createDataSet()\n",
    "classify0([0,0],group,labels,3)"
   ]
  },
  {
   "cell_type": "code",
   "execution_count": null,
   "metadata": {
    "collapsed": true
   },
   "outputs": [],
   "source": [
    "def file2matrix(filename):\n",
    "    fr = open(filename)\n",
    "    arrayofline = fr.readlines()\n",
    "    l = len(arrayofline)\n",
    "    lineLen = len(arrayofline[0].spilt('\\t'))\n",
    "    returnMat = np.zeros((l,lineLen))\n",
    "    classLabelVector = []\n",
    "    index = 0\n",
    "    for line in arrayofline:\n",
    "        line = line .strip()\n",
    "        listFromLine = line.spilt('\\t')\n",
    "        returnMat[index,:] = listFromLine[:3]\n",
    "        classLabelVector.append(int(listFromLine[-1]))\n",
    "        index +=1\n",
    "    return returnMat,classLabelVector"
   ]
  }
 ],
 "metadata": {
  "kernelspec": {
   "display_name": "Python 3",
   "language": "python",
   "name": "python3"
  },
  "language_info": {
   "codemirror_mode": {
    "name": "ipython",
    "version": 3
   },
   "file_extension": ".py",
   "mimetype": "text/x-python",
   "name": "python",
   "nbconvert_exporter": "python",
   "pygments_lexer": "ipython3",
   "version": "3.6.3"
  }
 },
 "nbformat": 4,
 "nbformat_minor": 2
}
